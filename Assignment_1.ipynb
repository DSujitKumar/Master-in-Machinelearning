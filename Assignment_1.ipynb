{
  "nbformat": 4,
  "nbformat_minor": 0,
  "metadata": {
    "colab": {
      "name": "Assignment 1.ipynb",
      "provenance": [],
      "authorship_tag": "ABX9TyNrzvg9bmiaR6ZGHrmrWDYL",
      "include_colab_link": true
    },
    "kernelspec": {
      "name": "python3",
      "display_name": "Python 3"
    }
  },
  "cells": [
    {
      "cell_type": "markdown",
      "metadata": {
        "id": "view-in-github",
        "colab_type": "text"
      },
      "source": [
        "<a href=\"https://colab.research.google.com/github/DSujitKumar/Master-in-Machinelearning/blob/master/Assignment_1.ipynb\" target=\"_parent\"><img src=\"https://colab.research.google.com/assets/colab-badge.svg\" alt=\"Open In Colab\"/></a>"
      ]
    },
    {
      "cell_type": "code",
      "metadata": {
        "id": "Uv5WfA4MnHHU",
        "colab_type": "code",
        "colab": {
          "base_uri": "https://localhost:8080/",
          "height": 219
        },
        "outputId": "8c8207ff-229a-4652-9377-c054f7fb13cc"
      },
      "source": [
        "def addfun(a,b):\n",
        "  return a+b;\n",
        "def accfun(f,l):\n",
        "  a=0\n",
        "  for i in l:\n",
        "    a=f(a,i)\n",
        "    print(a)\n",
        "l=[1,2,3,4,5,6,7,8,9,10]\n",
        "print(accfun(addfun,l))"
      ],
      "execution_count": 2,
      "outputs": [
        {
          "output_type": "stream",
          "text": [
            "1\n",
            "3\n",
            "6\n",
            "10\n",
            "15\n",
            "21\n",
            "28\n",
            "36\n",
            "45\n",
            "55\n",
            "None\n"
          ],
          "name": "stdout"
        }
      ]
    },
    {
      "cell_type": "code",
      "metadata": {
        "id": "_vnnC1zEQmR0",
        "colab_type": "code",
        "colab": {
          "base_uri": "https://localhost:8080/",
          "height": 182
        },
        "outputId": "b565392b-6928-4dc8-a2fd-9d814c91ef64"
      },
      "source": [
        "#Create the below pattern using nested for loop in Python\n",
        "for i in range(1,6): print('*'*i)\n",
        "for j in range(4,0,-1): print('*'*j)"
      ],
      "execution_count": 12,
      "outputs": [
        {
          "output_type": "stream",
          "text": [
            "*\n",
            "**\n",
            "***\n",
            "****\n",
            "*****\n",
            "****\n",
            "***\n",
            "**\n",
            "*\n"
          ],
          "name": "stdout"
        }
      ]
    },
    {
      "cell_type": "code",
      "metadata": {
        "id": "B-vE9gQ2ROep",
        "colab_type": "code",
        "colab": {
          "base_uri": "https://localhost:8080/",
          "height": 55
        },
        "outputId": "83bcb92c-b9a1-49b5-efba-d241eb98c0b4"
      },
      "source": [
        "'''\n",
        "Write a program which will find all such numbers which are divisible by 7 but are not a multiple of 5, between 2000 \n",
        "and 3200 (both included). The numbers obtained should be printed in a comma-separated sequence on a single line. \n",
        "'''\n",
        "\n",
        "for i in range(2000,3200+1 ): \n",
        "  if(i %7==0 and i%5!=0): print(i,end=',')"
      ],
      "execution_count": 16,
      "outputs": [
        {
          "output_type": "stream",
          "text": [
            "2002,2009,2016,2023,2037,2044,2051,2058,2072,2079,2086,2093,2107,2114,2121,2128,2142,2149,2156,2163,2177,2184,2191,2198,2212,2219,2226,2233,2247,2254,2261,2268,2282,2289,2296,2303,2317,2324,2331,2338,2352,2359,2366,2373,2387,2394,2401,2408,2422,2429,2436,2443,2457,2464,2471,2478,2492,2499,2506,2513,2527,2534,2541,2548,2562,2569,2576,2583,2597,2604,2611,2618,2632,2639,2646,2653,2667,2674,2681,2688,2702,2709,2716,2723,2737,2744,2751,2758,2772,2779,2786,2793,2807,2814,2821,2828,2842,2849,2856,2863,2877,2884,2891,2898,2912,2919,2926,2933,2947,2954,2961,2968,2982,2989,2996,3003,3017,3024,3031,3038,3052,3059,3066,3073,3087,3094,3101,3108,3122,3129,3136,3143,3157,3164,3171,3178,3192,3199,"
          ],
          "name": "stdout"
        }
      ]
    },
    {
      "cell_type": "code",
      "metadata": {
        "id": "1wm8cZB7Wr1x",
        "colab_type": "code",
        "colab": {
          "base_uri": "https://localhost:8080/",
          "height": 72
        },
        "outputId": "c0a436ff-1c86-480e-c2ea-100c37af1748"
      },
      "source": [
        "#Write a program which accepts a sequence of comma-separated numbers from console and generate a list. \n",
        "inp=input()\n",
        "lst=(inp.split(','))\n",
        "print(lst)\n"
      ],
      "execution_count": 25,
      "outputs": [
        {
          "output_type": "stream",
          "text": [
            "15,85,25,15,153,456,85\n",
            "['15', '85', '25', '15', '153', '456', '85']\n",
            "['15', '85', '25', '15', '153', '456', '85']\n"
          ],
          "name": "stdout"
        }
      ]
    },
    {
      "cell_type": "code",
      "metadata": {
        "id": "blsH7XOwQxMh",
        "colab_type": "code",
        "colab": {
          "base_uri": "https://localhost:8080/",
          "height": 35
        },
        "outputId": "18478e96-15b2-46bd-deb7-7df2cbf22eea"
      },
      "source": [
        "name =\"Sujit Das\"\n",
        "a=name.split(' ')\n",
        "print(a[0][::-1]+' '+a[-1][::-1])"
      ],
      "execution_count": 20,
      "outputs": [
        {
          "output_type": "stream",
          "text": [
            "tijuS saD\n"
          ],
          "name": "stdout"
        }
      ]
    },
    {
      "cell_type": "code",
      "metadata": {
        "id": "o9b_jZYyWRSm",
        "colab_type": "code",
        "colab": {
          "base_uri": "https://localhost:8080/",
          "height": 54
        },
        "outputId": "4d8ed8b2-8537-42b6-d357-9c594673f9bc"
      },
      "source": [
        "#Write a Python program to reverse a word after accepting the input from the user. \n",
        "a=input()\n",
        "print(a[::-1])"
      ],
      "execution_count": 21,
      "outputs": [
        {
          "output_type": "stream",
          "text": [
            "Sujit\n",
            "tijuS\n"
          ],
          "name": "stdout"
        }
      ]
    },
    {
      "cell_type": "code",
      "metadata": {
        "id": "mM2Hb0fYYtQY",
        "colab_type": "code",
        "colab": {
          "base_uri": "https://localhost:8080/",
          "height": 35
        },
        "outputId": "1838a992-a2a7-4cfb-fbe7-509c9af3f8f3"
      },
      "source": [
        "#Write a Python program to find the volume of a sphere with diameter 12 cm. \n",
        "vol=(4/3)*(22/7)*6**3\n",
        "print(vol)\n"
      ],
      "execution_count": 29,
      "outputs": [
        {
          "output_type": "stream",
          "text": [
            "905.142857142857\n"
          ],
          "name": "stdout"
        }
      ]
    },
    {
      "cell_type": "code",
      "metadata": {
        "id": "UC09GZvbahYw",
        "colab_type": "code",
        "colab": {}
      },
      "source": [
        ""
      ],
      "execution_count": 0,
      "outputs": []
    }
  ]
}