{
 "cells": [
  {
   "cell_type": "code",
   "execution_count": 3,
   "metadata": {},
   "outputs": [
    {
     "name": "stdout",
     "output_type": "stream",
     "text": [
      "Multiplication :  24\n",
      "Addition :  10\n"
     ]
    }
   ],
   "source": [
    "'''\n",
    "Task 1: \n",
    "1.1  \n",
    " \n",
    "Write a Python Program to implement your own myreduce() function which works exactly like \n",
    "Python's built-in function reduce() \n",
    "'''\n",
    "\n",
    "def myreduce(fun,lst):\n",
    "  a=1\n",
    "  for i in lst:\n",
    "    a=fun(a,i)\n",
    "  return a\n",
    "f=lambda x,y:x*y\n",
    "l=[1,2,3,4]\n",
    "print(\"Multiplication : \",myreduce(f,l))\n",
    "\n",
    "def myreduce1(fun,lst):\n",
    "  a=0\n",
    "  for i in lst:\n",
    "    a=fun(a,i)\n",
    "  return a\n",
    "f=lambda x,y:x+y\n",
    "l=[1,2,3,4]\n",
    "print(\"Addition : \",myreduce1(f,l))"
   ]
  },
  {
   "cell_type": "code",
   "execution_count": 3,
   "metadata": {},
   "outputs": [
    {
     "name": "stdout",
     "output_type": "stream",
     "text": [
      "['Even', 'Even', 'Odd', 'Even', 'Odd', 'Odd', 'Odd', 'Even']\n"
     ]
    }
   ],
   "source": [
    "'''\n",
    "1.2  \n",
    " \n",
    "Write a Python program to implement your own myfilter() function which works exactly \n",
    "like Python's built-in function filter() \n",
    "'''\n",
    "def fun(var):\n",
    "    if(var %2==0):\n",
    "        return \"Even\"\n",
    "    else:\n",
    "        return \"Odd\"\n",
    "def myfilter(fun,seq):\n",
    "    l=[]\n",
    "    for i in seq:\n",
    "        a=fun(i)\n",
    "        l.append(a)\n",
    "    return l\n",
    "\n",
    "\n",
    "print(myfilter(fun,[2,6,5,8,9,1,15,62]))"
   ]
  },
  {
   "cell_type": "code",
   "execution_count": 6,
   "metadata": {},
   "outputs": [
    {
     "name": "stdout",
     "output_type": "stream",
     "text": [
      "['A', 'C', 'A', 'D', 'G', 'I', 'L', 'D']\n",
      "['X', 'XX', 'XXX', 'XXXX', 'Y', 'YY', 'YYY', 'YYYY', 'Z', 'ZZ', 'ZZZ', 'ZZZZ']\n",
      "['X', 'Y', 'Z', 'XX', 'YY', 'ZZ', 'XX', 'YY', 'ZZ', 'XXXX', 'YYYY', 'ZZZZ']\n",
      "[[2], [3], [4], [3], [4], [5], [4], [5], [6]]\n",
      "[[2, 3, 4, 5], [3, 4, 5, 6], [4, 5, 6, 7], [5, 6, 7, 8]]\n",
      "[(1, 1), (1, 2), (1, 3), (2, 1), (2, 2), (2, 3), (3, 1), (3, 2), (3, 3)]\n"
     ]
    }
   ],
   "source": [
    "'''\n",
    "2.  \n",
    " \n",
    "Implement List comprehensions to produce the following lists. \n",
    " \n",
    "Write List comprehensions to produce the following Lists \n",
    " \n",
    "['A', 'C', 'A', 'D', 'G', 'I', ’L’, ‘ D’] \n",
    " \n",
    "['x', 'xx', 'xxx', 'xxxx', 'y', 'yy', 'yyy', 'yyyy', 'z', 'zz', 'zzz', 'zzzz'] \n",
    " \n",
    "['x', 'y', 'z', 'xx', 'yy', 'zz', 'xx', 'yy', 'zz', 'xxxx', 'yyyy', 'zzzz'] \n",
    "\n",
    "[[2], [3], [4], [3], [4], [5], [4], [5], [6]] \n",
    " \n",
    "[[2, 3, 4, 5], [3, 4, 5, 6], [4, 5, 6, 7], [5, 6, 7, 8]] \n",
    " \n",
    "[(1, 1), (2, 1), (3, 1), (1, 2), (2, 2), (3, 2), (1, 3), (2, 3), (3, 3)] \n",
    "'''\n",
    "\n",
    "print([i for i in 'ACADGILD'])\n",
    "print([i*n for i in ['X','Y','Z'] for n in range(1,5)])\n",
    "print([i*n for n in [1,2,2,4] for i in ['X','Y','Z'] ])\n",
    "print([[i+n] for i in range(1,4) for n in range(1,4)])\n",
    "print([[x,y,z,a] for x in range(2,6) for y in range(x+1,x+2) for z in range(x+2,x+3) for a in range(x+3,x+4)])\n",
    "print([(a,b) for a in range(1,4) for b in range(1,4)])"
   ]
  },
  {
   "cell_type": "code",
   "execution_count": 7,
   "metadata": {},
   "outputs": [
    {
     "data": {
      "text/plain": [
       "['manwoman']"
      ]
     },
     "execution_count": 7,
     "metadata": {},
     "output_type": "execute_result"
    }
   ],
   "source": [
    "'''\n",
    "3.  \n",
    " \n",
    "Implement a function longestWord() that takes a list of words and returns the longest one. \n",
    "'''\n",
    "\n",
    "def longestWord(lst):\n",
    "  l=len(max(lst,key=len))\n",
    "  return ([a for a in lst if len(a) ==l])\n",
    "longestWord(['abc','cdef','ghij','manwoman'])\n"
   ]
  },
  {
   "cell_type": "code",
   "execution_count": 14,
   "metadata": {},
   "outputs": [
    {
     "name": "stdout",
     "output_type": "stream",
     "text": [
      "Area =  121.8605760695394\n"
     ]
    }
   ],
   "source": [
    "'''\n",
    "Task 2: \n",
    "\n",
    "1.1 \n",
    "Write a Python Program(with class concepts) to find the area of the triangle using the below formula. \n",
    " \n",
    "area = (s*(s-a)*(s-b)*(s-c)) ** 0.5 \n",
    " \n",
    "Function to take the length of the sides of triangle from user should be defined in the parent class and function \n",
    "to calculate the area should be defined in subclass. \n",
    "\n",
    "'''\n",
    "class Sides:\n",
    "    def __init__(self, s1,s2,s3):\n",
    "        self.s1=s1\n",
    "        self.s2=s2\n",
    "        self.s3=s3\n",
    "        \n",
    "class AreaCalc(Sides):\n",
    "    def __init__(self, *args):\n",
    "        super().__init__(*args)\n",
    "    def Area(self):\n",
    "        s=self.s1+self.s2+self.s3\n",
    "        return (s*(s-self.s1)*(s-self.s2)*(s-self.s3)) ** 0.5\n",
    "areaobj=AreaCalc(6,5,4)\n",
    "print('Area = ',areaobj.Area())"
   ]
  },
  {
   "cell_type": "code",
   "execution_count": 8,
   "metadata": {},
   "outputs": [
    {
     "data": {
      "text/plain": [
       "['Computer', 'Mouse', 'Monitor']"
      ]
     },
     "execution_count": 8,
     "metadata": {},
     "output_type": "execute_result"
    }
   ],
   "source": [
    "'''\n",
    "1.2 \n",
    " \n",
    "Write a function filter_long_words() that takes a list of words and an integer n \n",
    "and returns the list of words that are longer than n. \n",
    "'''\n",
    "\n",
    "def filter_long_words(lst,n):\n",
    "  return[a for a in lst if(len(a)>n)]\n",
    "\n",
    "lst=['Computer','Mouse','ab','cd','Monitor']\n",
    "n=3\n",
    "filter_long_words(lst,n)"
   ]
  },
  {
   "cell_type": "code",
   "execution_count": 9,
   "metadata": {},
   "outputs": [
    {
     "data": {
      "text/plain": [
       "[2, 3, 4]"
      ]
     },
     "execution_count": 9,
     "metadata": {},
     "output_type": "execute_result"
    }
   ],
   "source": [
    "'''\n",
    "2.1 \n",
    " \n",
    "Write a Python program using function concept that maps  list of words into a list of integers representing \n",
    "the lengths of the corresponding words​. \n",
    " \n",
    " Hint: ​If a list [ ab,cde,erty] is passed on to the python function output should come as [2,3,4] \n",
    " Here 2,3 and 4 are the lengths of the words in the list. \n",
    "'''\n",
    "\n",
    "def funlen(lst):\n",
    "    return [len(i) for i in lst]\n",
    "\n",
    "funlen(['ab','abc','abcd'])"
   ]
  },
  {
   "cell_type": "code",
   "execution_count": 21,
   "metadata": {},
   "outputs": [
    {
     "data": {
      "text/plain": [
       "False"
      ]
     },
     "execution_count": 21,
     "metadata": {},
     "output_type": "execute_result"
    }
   ],
   "source": [
    "'''\n",
    "2.2\n",
    "Write a Python function which takes a character (i.e. a string of length 1) and returns True if it is a vowel, False otherwise. \n",
    " \n",
    " \n",
    "'''\n",
    "def fun(c):\n",
    "    return True if c in ['a','e','i','o','u','A','E','I','O','U'] else False\n",
    "\n",
    "fun('b')"
   ]
  },
  {
   "cell_type": "code",
   "execution_count": null,
   "metadata": {},
   "outputs": [],
   "source": []
  }
 ],
 "metadata": {
  "kernelspec": {
   "display_name": "Python 3",
   "language": "python",
   "name": "python3"
  },
  "language_info": {
   "codemirror_mode": {
    "name": "ipython",
    "version": 3
   },
   "file_extension": ".py",
   "mimetype": "text/x-python",
   "name": "python",
   "nbconvert_exporter": "python",
   "pygments_lexer": "ipython3",
   "version": "3.7.3"
  }
 },
 "nbformat": 4,
 "nbformat_minor": 2
}
