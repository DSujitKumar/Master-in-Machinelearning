{
 "cells": [
  {
   "cell_type": "code",
   "execution_count": 1,
   "metadata": {},
   "outputs": [
    {
     "name": "stdout",
     "output_type": "stream",
     "text": [
      "5/0 Throws an exception\n"
     ]
    }
   ],
   "source": [
    "'''\n",
    "Task 1: 1\n",
    "    Write a function to compute 5/0 and use try/except to catch the exceptions\n",
    "'''\n",
    "\n",
    "try:\n",
    "    a=5/0\n",
    "except:\n",
    "    print(\"5/0 Throws an exception\")\n",
    "else:\n",
    "    print(\"Its not an exception\")"
   ]
  },
  {
   "cell_type": "code",
   "execution_count": 4,
   "metadata": {},
   "outputs": [
    {
     "name": "stdout",
     "output_type": "stream",
     "text": [
      "Americans play Baseball\n",
      "Americans play Cricket\n",
      "Americans watch Baseball\n",
      "Americans watch Cricket\n",
      "Indians play Baseball\n",
      "Indians play Cricket\n",
      "Indians watch Baseball\n",
      "Indians watch Cricket\n"
     ]
    }
   ],
   "source": [
    "'''\n",
    "Task 1: 2\n",
    "\n",
    "Implement a Python program to generate all sentences where subject is in [\"Americans\", \"Indians\"] and verb is in [\"Play\", \"watch\"] and the object is in [\"Baseball\",\"cricket\"]. \n",
    " Hint: Subject,Verb and Object should be declared in the program as shown below. \n",
    " subjects=[\"Americans \",\"Indians\"] \n",
    " verbs=[\"play\",\"watch\"] \n",
    " objects=[\"Baseball\",\"Cricket\"] \n",
    " \n",
    "'''\n",
    "subjects=[\"Americans\",\"Indians\"] \n",
    "verbs=[\"play\",\"watch\"] \n",
    "objects=[\"Baseball\",\"Cricket\"]\n",
    "\n",
    "for i in subjects:\n",
    "    for j in verbs:\n",
    "        for k in objects:\n",
    "            print(i+\" \"+j+\" \"+k)"
   ]
  },
  {
   "cell_type": "code",
   "execution_count": 8,
   "metadata": {},
   "outputs": [
    {
     "name": "stdout",
     "output_type": "stream",
     "text": [
      "Number of Columns : 2\n",
      "Enter the Element : 4\n",
      "Enter the Element : 5\n",
      "Do you want in increasing order (Y/N): N\n",
      "\n",
      "---------Output--------\n",
      "\n",
      "False\n",
      "[[4 1]\n",
      " [5 1]]\n"
     ]
    }
   ],
   "source": [
    "'''\n",
    "Write a function so that the columns of the output matrix are powers of the input vector.  \n",
    "The order of the powers is determined by the increasing boolean argument. Specifically, when\n",
    "increasing is False, the i-th output column is the input vector raised element-wise to the power \n",
    "of N - i - 1\n",
    "'''\n",
    "\n",
    "import numpy as np\n",
    "\n",
    "def generateMatrix(vector,n,increasing):\n",
    "    print(increasing)\n",
    "    if(increasing):\n",
    "        matrix=np.array([a**(i) for a in vector for i in range(n)]).reshape(len(vector),n)\n",
    "    else:\n",
    "        matrix=np.array([a**(n-i-1) for a in vector for i in range(n)]).reshape(len(vector),n)\n",
    "    return matrix\n",
    "\n",
    "\n",
    "Col=int(input(\"Number of Columns : \"))\n",
    "vector=[]\n",
    "for i in range(Col):\n",
    "    try:\n",
    "        a=int(input(\"Enter the Element : \"))\n",
    "    except:\n",
    "        a=int(input(\"Enter a number as Element  : \"))\n",
    "    vector.append(a)\n",
    "increasing=(input(\"Do you want in increasing order (Y/N): \"))\n",
    "increasing=True if increasing=='Y' else False\n",
    "\n",
    "print()\n",
    "print(\"---------Output--------\")\n",
    "print()\n",
    "print(generateMatrix(vector,Col,increasing))"
   ]
  },
  {
   "cell_type": "code",
   "execution_count": null,
   "metadata": {},
   "outputs": [],
   "source": []
  },
  {
   "cell_type": "code",
   "execution_count": null,
   "metadata": {},
   "outputs": [],
   "source": []
  }
 ],
 "metadata": {
  "kernelspec": {
   "display_name": "Python 3",
   "language": "python",
   "name": "python3"
  },
  "language_info": {
   "codemirror_mode": {
    "name": "ipython",
    "version": 3
   },
   "file_extension": ".py",
   "mimetype": "text/x-python",
   "name": "python",
   "nbconvert_exporter": "python",
   "pygments_lexer": "ipython3",
   "version": "3.7.3"
  }
 },
 "nbformat": 4,
 "nbformat_minor": 2
}
